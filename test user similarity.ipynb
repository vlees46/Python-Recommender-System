{
 "cells": [
  {
   "cell_type": "code",
   "execution_count": 343,
   "id": "58a45f8d-07a7-483c-a7f9-6b1bf9f95d92",
   "metadata": {
    "tags": []
   },
   "outputs": [
    {
     "name": "stdin",
     "output_type": "stream",
     "text": [
      "Enter User ID to find similar users:  13\n"
     ]
    },
    {
     "name": "stdout",
     "output_type": "stream",
     "text": [
      "Searched for users similar to User ID: 13\n",
      "Match 0: The Ascent of Money: A Financial History of the World\n",
      "Match 1: Close to the Machine: Technophilia and Its Discontents\n",
      "Match 2: The Fifth Season (The Broken Earth, #1)\n",
      "Match 3: The Tools: Transform Your Problems into Courage, Confidence, and Creativity\n",
      "Match 4: Machine Learning: New and Collected Stories\n",
      "Similar Users and Their Top-Rated Books:\n",
      "User 1 (User ID: 8):\n",
      "    Book: Leonardo da Vinci\n",
      "    Book: Principles: Life and Work\n",
      "    Book: WTF?: What's the Future and Why It's Up to Us\n",
      "    Book: Nonviolent Communication: A Language of Life\n",
      "    Book: Deep Learning\n",
      "User 2 (User ID: 9):\n",
      "    Book: Leonardo da Vinci\n",
      "    Book: Principles: Life and Work\n",
      "    Book: WTF?: What's the Future and Why It's Up to Us\n",
      "    Book: Nonviolent Communication: A Language of Life\n",
      "    Book: Deep Learning\n",
      "User 3 (User ID: 10):\n",
      "    Book: Leonardo da Vinci\n",
      "    Book: Principles: Life and Work\n",
      "    Book: WTF?: What's the Future and Why It's Up to Us\n",
      "    Book: Nonviolent Communication: A Language of Life\n",
      "    Book: Deep Learning\n",
      "User 4 (User ID: 12):\n",
      "    Book: Leonardo da Vinci\n",
      "    Book: Principles: Life and Work\n",
      "    Book: WTF?: What's the Future and Why It's Up to Us\n",
      "    Book: Nonviolent Communication: A Language of Life\n",
      "    Book: Deep Learning\n",
      "User 5 (User ID: 5):\n",
      "    Book: Principles: Life and Work\n",
      "    Book: WTF?: What's the Future and Why It's Up to Us\n",
      "    Book: Death's End (Remembrance of Earth’s Past, #3)\n",
      "    Book: Leonardo da Vinci\n",
      "    Book: Nonviolent Communication: A Language of Life\n"
     ]
    }
   ],
   "source": [
    "import json\n",
    "import pickle\n",
    "import numpy as np\n",
    "\n",
    "def display_similar_users_and_books(similar_user_ids, user_similarity, metadata):\n",
    "    \"\"\"\n",
    "    Displays similar users and their top-rated books in a formatted manner.\n",
    "    \"\"\"\n",
    "    print(\"Similar Users and Their Top-Rated Books:\")\n",
    "   # print(metadata)\n",
    "    \n",
    "    for idx, user_id in enumerate(similar_user_ids):\n",
    "        user_scores = user_similarity[user_id]\n",
    "        top_indexes = np.argsort(-user_scores)[:5]  # Example limit, adjust as needed\n",
    "\n",
    "        print(f\"User {idx + 1} (User ID: {user_id}):\")\n",
    "        for j in top_indexes:\n",
    "            if str(j) in metadata:\n",
    "                book_info = metadata[str(j)]\n",
    "                print(f\"    Book: {book_info['title']}\")\n",
    "            else:\n",
    "                print(\"    No metadata available for this user.\")\n",
    "\n",
    "def test_recommender(user_id, user_similarity, metadata):\n",
    "    \"\"\"\n",
    "    Tests the user-user recommender system and displays top-rated books for similar users.\n",
    "    \"\"\"\n",
    "    if user_id >= user_similarity.shape[0] or user_id < 0:\n",
    "        print(\"User ID out of bounds.\")\n",
    "        return\n",
    "\n",
    "    row_sims = user_similarity[user_id]\n",
    "    top_user_ids = sorted(range(len(row_sims)), key=lambda sub: row_sims[sub])[-5:]\n",
    "    \n",
    "    print(f\"Searched for users similar to User ID: {user_id}\")\n",
    "    for idx, similar_user_id in enumerate(top_user_ids):\n",
    "        if str(similar_user_id) in metadata:\n",
    "            book_title = metadata[str(similar_user_id)]['title']\n",
    "            print(f\"Match {idx}: {book_title}\")\n",
    "        else:\n",
    "            print(f\"Match {idx}: No metadata available for this user.\")\n",
    "\n",
    "    # Display the similar users and their top-rated books\n",
    "    display_similar_users_and_books(top_user_ids, user_similarity, metadata)\n",
    "\n",
    "if __name__ == \"__main__\":\n",
    "    NS = 9000\n",
    "    FN = '9k'\n",
    "    EPS = 1e-9\n",
    "    FACTORS = 2\n",
    "    METRIC = 'cosine'\n",
    "\n",
    "    USER_SIM_PATH = 'user_similarity_{factors}_{records}_{metric}.pkl'.format(factors=FACTORS, records=FN, metric=METRIC)\n",
    "    USER_META_PATH = 'books_metadata_{records}.json'.format(records=FN)\n",
    "\n",
    "    with open(USER_SIM_PATH, 'rb') as f:\n",
    "        user_sim = pickle.load(f)\n",
    "    with open(USER_META_PATH, 'r', encoding='utf-8') as m:\n",
    "        user_metadata = json.load(m)\n",
    "\n",
    "    user_input_id = int(input(\"Enter User ID to find similar users: \"))\n",
    "    test_recommender(user_input_id, user_sim, user_metadata)\n"
   ]
  },
  {
   "cell_type": "markdown",
   "id": "611416e6-eb92-478a-b6fb-7448ea75010c",
   "metadata": {},
   "source": [
    "# Test Case #1 Output Factor 2 Metric Cityblock"
   ]
  },
  {
   "cell_type": "markdown",
   "id": "72e65b7a-fdab-45fd-9c44-6e3450b10dd1",
   "metadata": {},
   "source": [
    "# Test Case #2 Output Factor 4 Metric Cityblock"
   ]
  },
  {
   "cell_type": "code",
   "execution_count": null,
   "id": "eefca2ec-7cb8-425c-9d23-19557fbc3550",
   "metadata": {},
   "outputs": [],
   "source": []
  },
  {
   "cell_type": "markdown",
   "id": "d08f37b3-6c8f-4459-b015-dc7213c92c6b",
   "metadata": {},
   "source": [
    "# Test Case #2 Summary\n",
    "- \""
   ]
  },
  {
   "cell_type": "markdown",
   "id": "6043ff8d-1fea-491d-96c5-6d68730ea978",
   "metadata": {},
   "source": [
    "# Test Case #3 Output Factor 6 Metric Cityblock"
   ]
  },
  {
   "cell_type": "markdown",
   "id": "fa21793a-389f-465d-b8fd-d1a45b28e0c4",
   "metadata": {},
   "source": []
  },
  {
   "cell_type": "markdown",
   "id": "4b6edffc-4bcc-47b4-b49c-0b7a64a893ad",
   "metadata": {},
   "source": [
    "# Case #3 Summary\n",
    "\n",
    "Summary the factor has a direct impact on how the recommender is recommending books and looks like it is providing a larger sample of book to recommend matches per users and more books are not matching with other users"
   ]
  },
  {
   "cell_type": "markdown",
   "id": "5f838332-344e-43dd-b35e-b5542b7b5c08",
   "metadata": {},
   "source": [
    "# Test Case #4 Output Factor 10 Metric Cityblock"
   ]
  },
  {
   "cell_type": "code",
   "execution_count": null,
   "id": "fc2750ea-1242-49be-802e-9590dc3b0151",
   "metadata": {},
   "outputs": [],
   "source": [
    "Enter User ID to find similar users:  1\n",
    "Similar Users and Their Top-Rated Books:\n",
    "User 1 (User ID: 536):\n",
    "    Book: Pride and Prejudice - Link: https://www.goodreads.com/book/show/1885.Pride_and_Prejudice\n",
    "    Book: Stardust - Link: https://www.goodreads.com/book/show/16793.Stardust\n",
    "    Book: Jane Eyre - Link: https://www.goodreads.com/book/show/10210.Jane_Eyre\n",
    "    Book: The Handmaid's Tale - Link: https://www.goodreads.com/book/show/38447.The_Handmaid_s_Tale\n",
    "    Book: Memoirs of a Geisha - Link: https://www.goodreads.com/book/show/930.Memoirs_of_a_Geisha\n",
    "    Book: A Little Princess - Link: https://www.goodreads.com/book/show/3008.A_Little_Princess\n",
    "User 2 (User ID: 821):\n",
    "    Book: With All My Soul (Soul Screamers, #7) - Link: https://www.goodreads.com/book/show/13508069-with-all-my-soul\n",
    "    Book: Destroy Me (Shatter Me, #1.5) - Link: https://www.goodreads.com/book/show/13623150-destroy-me\n",
    "    Book: Room - Link: https://www.goodreads.com/book/show/7937843-room\n",
    "    Book: Throne of Glass (Throne of Glass, #1) - Link: https://www.goodreads.com/book/show/7896527-throne-of-glass\n",
    "    Book: Gathering Blue (The Giver, #2) - Link: https://www.goodreads.com/book/show/12936.Gathering_Blue\n",
    "    Book: A Game of Thrones (A Song of Ice and Fire, #1) - Link: https://www.goodreads.com/book/show/13496.A_Game_of_Thrones\n",
    "User 3 (User ID: 706):\n",
    "    Book: Catching Fire (The Hunger Games, #2) - Link: https://www.goodreads.com/book/show/6148028-catching-fire\n",
    "    Book: The Giver (The Giver, #1) - Link: https://www.goodreads.com/book/show/3636.The_Giver\n",
    "    Book: Insurgent (Divergent, #2) - Link: https://www.goodreads.com/book/show/11735983-insurgent\n",
    "    Book: With All My Soul (Soul Screamers, #7) - Link: https://www.goodreads.com/book/show/13508069-with-all-my-soul\n",
    "    Book: Destroy Me (Shatter Me, #1.5) - Link: https://www.goodreads.com/book/show/13623150-destroy-me\n",
    "    Book: Gone Girl - Link: https://www.goodreads.com/book/show/8442457-gone-girl\n",
    "User 4 (User ID: 994):\n",
    "    Book: The Hunger Games (The Hunger Games, #1) - Link: https://www.goodreads.com/book/show/2767052-the-hunger-games\n",
    "    Book: Bossypants - Link: https://www.goodreads.com/book/show/9418327-bossypants\n",
    "    Book: Behind the Beautiful Forevers: Life, Death, and Hope in a Mumbai Undercity - Link: https://www.goodreads.com/book/show/11869272-behind-the-beautiful-forevers\n",
    "    Book: A Short History of Nearly Everything - Link: https://www.goodreads.com/book/show/21.A_Short_History_of_Nearly_Everything\n",
    "    Book: Destroy Me (Shatter Me, #1.5) - Link: https://www.goodreads.com/book/show/13623150-destroy-me\n",
    "    Book: With All My Soul (Soul Screamers, #7) - Link: https://www.goodreads.com/book/show/13508069-with-all-my-soul\n",
    "User 5 (User ID: 197):\n",
    "    Book: Pride and Prejudice - Link: https://www.goodreads.com/book/show/1885.Pride_and_Prejudice\n",
    "    Book: The Golden Compass (His Dark Materials, #1) - Link: https://www.goodreads.com/book/show/119322.The_Golden_Compass\n",
    "    Book: American Gods (American Gods, #1) - Link: https://www.goodreads.com/book/show/4407.American_Gods\n",
    "    Book: Memoirs of a Geisha - Link: https://www.goodreads.com/book/show/930.Memoirs_of_a_Geisha\n",
    "    Book: Middlesex - Link: https://www.goodreads.com/book/show/2187.Middlesex\n",
    "    Book: The Lion, the Witch, and the Wardrobe (Chronicles of Narnia, #1) - Link: https://www.goodreads.com/book/show/100915.The_Lion_the_Witch_and_the_Wardrobe"
   ]
  },
  {
   "cell_type": "markdown",
   "id": "fc66db12-3463-4048-9c17-b95a335934df",
   "metadata": {
    "tags": []
   },
   "source": [
    "# Case #4 Summary\n",
    "\"Pride and Prejudice\": rated by users [536, 197]\n",
    "\"Stardust\": rated by users [536, 821]\n",
    "\"Jane Eyre\": rated by user [536]\n",
    "\"The Handmaid's Tale\": rated by users [536, 706]\n",
    "\"Memoirs of a Geisha\": rated by users [536, 197, 706]\n",
    "\"A Little Princess\": rated by user [536]\n",
    "\"With All My Soul (Soul Screamers, #7)\": rated by users [821, 706, 994]\n",
    "\"Destroy Me (Shatter Me, #1.5)\": rated by users [821, 706, 994, 828]\n",
    "\"Room\": rated by user [821]\n",
    "\"Throne of Glass (Throne of Glass, #1)\": rated by users [821, 706]\n",
    "\"Gathering Blue (The Giver, #2)\": rated by user [821]\n",
    "\"A Game of Thrones (A Song of Ice and Fire, #1)\": rated by user [821]\n",
    "\"Catching Fire (The Hunger Games, #2)\": rated by user [706]\n",
    "\"The Giver (The Giver, #1)\": rated by user [706]\n",
    "\"Insurgent (Divergent, #2)\": rated by users [706, 536]\n",
    "\"Gone Girl\": rated by user [706]\n",
    "\"The Hunger Games (The Hunger Games, #1)\": rated by user [994]\n",
    "\"Bossypants\": rated by user [994]\n",
    "\"Behind the Beautiful Forevers: Life, Death, and Hope in a Mumbai Undercity\": rated by user [994]\n",
    "\"A Short History of Nearly Everything\": rated by user [994]\n",
    "\"The Golden Compass (His Dark Materials, #1)\": rated by user [197]\n",
    "\"American Gods (American Gods, #1)\": rated by user [197]\n",
    "\"Middlesex\": rated by user [197]\n",
    "\"The Lion, the Witch, and the Wardrobe (Chronicles of Narnia, #1)\": rated by user [197]\n",
    "\n",
    "Summary: seeing less matches per user and are spread out accross the book titles, let go back down to a factor of 2"
   ]
  },
  {
   "cell_type": "markdown",
   "id": "f15797a5-db24-4d5c-b098-b46175e39c02",
   "metadata": {},
   "source": [
    "# Test Case #5 Output Factor 2 Metric Cityblock"
   ]
  },
  {
   "cell_type": "markdown",
   "id": "ebcf0316-d57b-4614-a9d3-2b4e9bebb59f",
   "metadata": {},
   "source": [
    "User 1 (User ID: 858):\n",
    "    Book: With All My Soul (Soul Screamers, #7) - Link: https://www.goodreads.com/book/show/13508069-with-all-my-soul\n",
    "    Book: Destroy Me (Shatter Me, #1.5) - Link: https://www.goodreads.com/book/show/13623150-destroy-me\n",
    "    Book: Throne of Glass (Throne of Glass, #1) - Link: https://www.goodreads.com/book/show/7896527-throne-of-glass\n",
    "    Book: Insurgent (Divergent, #2) - Link: https://www.goodreads.com/book/show/11735983-insurgent\n",
    "    Book: Reaper (Soul Screamers, #3.5) - Link: https://www.goodreads.com/book/show/9680403-reaper\n",
    "    Book: Matched (Matched, #1) - Link: https://www.goodreads.com/book/show/8792472-matched\n",
    "User 2 (User ID: 821):\n",
    "    Book: With All My Soul (Soul Screamers, #7) - Link: https://www.goodreads.com/book/show/13508069-with-all-my-soul\n",
    "    Book: Destroy Me (Shatter Me, #1.5) - Link: https://www.goodreads.com/book/show/13623150-destroy-me\n",
    "    Book: Throne of Glass (Throne of Glass, #1) - Link: https://www.goodreads.com/book/show/7896527-throne-of-glass\n",
    "    Book: Insurgent (Divergent, #2) - Link: https://www.goodreads.com/book/show/11735983-insurgent\n",
    "    Book: Reaper (Soul Screamers, #3.5) - Link: https://www.goodreads.com/book/show/9680403-reaper\n",
    "    Book: Darkness Before Dawn (Darkness Before Dawn Trilogy, #1) - Link: https://www.goodreads.com/book/show/12872080-darkness-before-dawn\n",
    "User 3 (User ID: 846):\n",
    "    Book: With All My Soul (Soul Screamers, #7) - Link: https://www.goodreads.com/book/show/13508069-with-all-my-soul\n",
    "    Book: Destroy Me (Shatter Me, #1.5) - Link: https://www.goodreads.com/book/show/13623150-destroy-me\n",
    "    Book: Throne of Glass (Throne of Glass, #1) - Link: https://www.goodreads.com/book/show/7896527-throne-of-glass\n",
    "    Book: Insurgent (Divergent, #2) - Link: https://www.goodreads.com/book/show/11735983-insurgent\n",
    "    Book: Reaper (Soul Screamers, #3.5) - Link: https://www.goodreads.com/book/show/9680403-reaper\n",
    "    Book: Darkness Before Dawn (Darkness Before Dawn Trilogy, #1) - Link: https://www.goodreads.com/book/show/12872080-darkness-before-dawn\n",
    "User 4 (User ID: 786):\n",
    "    Book: With All My Soul (Soul Screamers, #7) - Link: https://www.goodreads.com/book/show/13508069-with-all-my-soul\n",
    "    Book: Destroy Me (Shatter Me, #1.5) - Link: https://www.goodreads.com/book/show/13623150-destroy-me\n",
    "    Book: Throne of Glass (Throne of Glass, #1) - Link: https://www.goodreads.com/book/show/7896527-throne-of-glass\n",
    "    Book: Insurgent (Divergent, #2) - Link: https://www.goodreads.com/book/show/11735983-insurgent\n",
    "    Book: Reaper (Soul Screamers, #3.5) - Link: https://www.goodreads.com/book/show/9680403-reaper\n",
    "    Book: Darkness Before Dawn (Darkness Before Dawn Trilogy, #1) - Link: https://www.goodreads.com/book/show/12872080-darkness-before-dawn\n",
    "User 5 (User ID: 706):\n",
    "    Book: With All My Soul (Soul Screamers, #7) - Link: https://www.goodreads.com/book/show/13508069-with-all-my-soul\n",
    "    Book: Destroy Me (Shatter Me, #1.5) - Link: https://www.goodreads.com/book/show/13623150-destroy-me\n",
    "    Book: Throne of Glass (Throne of Glass, #1) - Link: https://www.goodreads.com/book/show/7896527-throne-of-glass\n",
    "    Book: Insurgent (Divergent, #2) - Link: https://www.goodreads.com/book/show/11735983-insurgent\n",
    "    Book: Reaper (Soul Screamers, #3.5) - Link: https://www.goodreads.com/book/show/9680403-reaper\n",
    "    Book: Darkness Before Dawn (Darkness Before Dawn Trilogy, #1) - Link: https://www.goodreads.com/book/show/12872080-darkness-before-dawn"
   ]
  },
  {
   "cell_type": "markdown",
   "id": "342f21aa-5548-43c7-b9e2-545ed83c8aa0",
   "metadata": {},
   "source": [
    "# Case #5 Summary\n",
    "\n",
    "\"With All My Soul (Soul Screamers, #7)\":\n",
    "Rated by users [858, 821, 846, 786, 706]\n",
    "\"Destroy Me (Shatter Me, #1.5)\":\n",
    "Rated by users [858, 821, 846, 786, 706]\n",
    "\"Throne of Glass (Throne of Glass, #1)\":\n",
    "Rated by users [858, 821, 846, 786, 706]\n",
    "\"Insurgent (Divergent, #2)\":\n",
    "Rated by users [858, 821, 846, 786, 706]\n",
    "\"Reaper (Soul Screamers, #3.5)\":\n",
    "Rated by users [858, 821, 846, 786, 706]\n",
    "\"Matched (Matched, #1)\":\n",
    "Rated by user [858]\n",
    "\"Darkness Before Dawn (Darkness Before Dawn Trilogy, #1)\":\n",
    "Rated by users [821, 846, 786, 706]\n",
    "\n",
    "Summary matches with Test Case#1"
   ]
  },
  {
   "cell_type": "markdown",
   "id": "df3d7c4e-c3ef-4a88-bef7-8325799b273f",
   "metadata": {},
   "source": [
    "# Test Case #6 Output Factor 1 Metric Cityblock"
   ]
  },
  {
   "cell_type": "code",
   "execution_count": null,
   "id": "c91f0361-df9f-4f51-bffb-28efa0f2a8da",
   "metadata": {},
   "outputs": [],
   "source": []
  },
  {
   "cell_type": "markdown",
   "id": "d879849e-9b74-46e3-a319-9897fc3ad8fb",
   "metadata": {},
   "source": [
    "# Case #6 Summary"
   ]
  }
 ],
 "metadata": {
  "kernelspec": {
   "display_name": "Python 3 (ipykernel)",
   "language": "python",
   "name": "python3"
  },
  "language_info": {
   "codemirror_mode": {
    "name": "ipython",
    "version": 3
   },
   "file_extension": ".py",
   "mimetype": "text/x-python",
   "name": "python",
   "nbconvert_exporter": "python",
   "pygments_lexer": "ipython3",
   "version": "3.11.8"
  }
 },
 "nbformat": 4,
 "nbformat_minor": 5
}
